{
 "cells": [
  {
   "cell_type": "code",
   "execution_count": 1,
   "id": "7d2be54f",
   "metadata": {},
   "outputs": [],
   "source": [
    "%load_ext autoreload\n",
    "%autoreload 2"
   ]
  },
  {
   "cell_type": "code",
   "execution_count": 2,
   "id": "6c9470c3",
   "metadata": {},
   "outputs": [
    {
     "name": "stderr",
     "output_type": "stream",
     "text": [
      "/usr/lib/python3.9/site-packages/tqdm/auto.py:22: TqdmWarning: IProgress not found. Please update jupyter and ipywidgets. See https://ipywidgets.readthedocs.io/en/stable/user_install.html\n",
      "  from .autonotebook import tqdm as notebook_tqdm\n"
     ]
    }
   ],
   "source": [
    "import numpy as np\n",
    "import matplotlib.pyplot as plt\n",
    "import torch\n",
    "from torch import nn\n",
    "import os\n",
    "\n",
    "from tqdm import tqdm"
   ]
  },
  {
   "cell_type": "markdown",
   "id": "820a1f3c",
   "metadata": {},
   "source": [
    "# Dataset"
   ]
  },
  {
   "cell_type": "code",
   "execution_count": 26,
   "id": "4d8e00a3",
   "metadata": {},
   "outputs": [
    {
     "name": "stdout",
     "output_type": "stream",
     "text": [
      "torch.Size([60000, 1, 32, 32])\n",
      "tensor(1.)\n",
      "(tensor([0, 1, 2, 3, 4, 5, 6, 7, 8, 9]), tensor([5923, 6742, 5958, 6131, 5842, 5421, 5918, 6265, 5851, 5949]))\n"
     ]
    }
   ],
   "source": [
    "import torchvision\n",
    "from torchvision import transforms\n",
    "from torch.utils.data import Subset, Dataset, DataLoader\n",
    "\n",
    "train_ds_mnist = torchvision.datasets.MNIST('./files/', train=True, download=True,\n",
    "                             transform=torchvision.transforms.Compose([\n",
    "                                 transforms.Resize(32),\n",
    "                                 torchvision.transforms.ToTensor(),\n",
    "                             ]))\n",
    "test_ds_mnist = torchvision.datasets.MNIST('./files/', train=False, download=True,\n",
    "                             transform=torchvision.transforms.Compose([\n",
    "                                 transforms.Resize(32),\n",
    "                                 torchvision.transforms.ToTensor(),\n",
    "                             ]))\n",
    "\n",
    "# dataset and dataloader\n",
    "TRAIN_SIZE = 60000\n",
    "TEST_SIZE = 10000\n",
    "BATCH_SIZE = 256\n",
    "dl = DataLoader(train_ds_mnist, batch_size=BATCH_SIZE,     num_workers=10)\n",
    "dl_test = DataLoader(test_ds_mnist, batch_size=BATCH_SIZE, num_workers=10)\n",
    "\n",
    "#full dataset train\n",
    "FULL_TRAIN_SIZE = 60000\n",
    "dl_full = DataLoader(train_ds_mnist, batch_size=FULL_TRAIN_SIZE)\n",
    "for x, y in dl_full:\n",
    "    X_full_train = x\n",
    "    targets = y\n",
    "    break\n",
    "\n",
    "#full dataset train\n",
    "FULL_TEST_SIZE = 10000\n",
    "dl_full = DataLoader(test_ds_mnist, batch_size=FULL_TEST_SIZE)\n",
    "for x, y in dl_full:\n",
    "    X_full_test = x\n",
    "    targets_test = y\n",
    "    break\n",
    "\n",
    "print(X_full_train.shape)\n",
    "print(torch.max(X_full_train))\n",
    "print(targets.unique(return_counts=True))\n",
    "\n",
    "DS_IN_CHANNELS=1"
   ]
  },
  {
   "cell_type": "code",
   "execution_count": 4,
   "id": "82f2bb19",
   "metadata": {},
   "outputs": [],
   "source": [
    "# import torchvision\n",
    "# from torchvision import transforms\n",
    "# from torch.utils.data import Subset, Dataset, DataLoader\n",
    "\n",
    "# train_ds_cifar10 = torchvision.datasets.CIFAR10('./files/', train=True, download=True,\n",
    "#                              transform=torchvision.transforms.Compose([\n",
    "#                                  transforms.Resize(32),\n",
    "#                                  torchvision.transforms.ToTensor(),\n",
    "#                              ]))\n",
    "# test_ds_cifar10  = torchvision.datasets.CIFAR10('./files/', train=False, download=True,\n",
    "#                              transform=torchvision.transforms.Compose([\n",
    "#                                  transforms.Resize(32),\n",
    "#                                  torchvision.transforms.ToTensor(),\n",
    "#                              ]))\n",
    "\n",
    "# # dataset and dataloader\n",
    "# TRAIN_SIZE = 50000\n",
    "# TEST_SIZE = 10000\n",
    "# BATCH_SIZE = 32\n",
    "# dl = DataLoader(train_ds_cifar10, batch_size=BATCH_SIZE,     num_workers=10)\n",
    "# dl_test = DataLoader(test_ds_cifar10, batch_size=BATCH_SIZE, num_workers=10)\n",
    "\n",
    "# #full dataset train\n",
    "# FULL_TRAIN_SIZE = 50000\n",
    "# dl_full = DataLoader(train_ds_cifar10, batch_size=FULL_TRAIN_SIZE)\n",
    "# for x, y in dl_full:\n",
    "#     X_full_train = x\n",
    "#     targets = y\n",
    "#     break\n",
    "\n",
    "# #full dataset train\n",
    "# FULL_TEST_SIZE = 10000\n",
    "# dl_full = DataLoader(test_ds_cifar10, batch_size=FULL_TEST_SIZE)\n",
    "# for x, y in dl_full:\n",
    "#     X_full_test = x\n",
    "#     targets_test = y\n",
    "#     break\n",
    "\n",
    "# print(X_full_train.shape, X_full_test.shape)\n",
    "# print(torch.max(X_full_train))\n",
    "# print(targets.unique(return_counts=True))\n",
    "\n",
    "# DS_IN_CHANNELS=3"
   ]
  },
  {
   "cell_type": "markdown",
   "id": "6c0e60c7",
   "metadata": {},
   "source": [
    "# Upload model"
   ]
  },
  {
   "cell_type": "code",
   "execution_count": 27,
   "id": "652f8675",
   "metadata": {},
   "outputs": [],
   "source": [
    "device = 'cpu'#'cuda:1' #torch.device(torch.cuda.get_device_name(1))"
   ]
  },
  {
   "cell_type": "code",
   "execution_count": 52,
   "id": "e0478faf",
   "metadata": {},
   "outputs": [],
   "source": [
    "# MODEL_TYPE = 'LRAE'\n",
    "MODEL_TYPE = 'LRAE'\n",
    "\n",
    "# Upload the model\n",
    "model_dir = 'evaluation'\n",
    "# model_dir = 'test_1_save'\n",
    "# model_dir = ''\n",
    "\n",
    "# model_name = 'MNIST__VAE_128__50__10ktrain'\n",
    "model_name = 'test1__MNIST__AE__128__0.01'\n",
    "# model_name = 'test1__MNIST__LRAE__128__0.01__10'\n",
    "\n",
    "\n",
    "\n",
    "\n",
    "\n",
    "\n",
    "GOOD_MODEL_TYPE = ['VAE', 'AE', 'LRAE']\n",
    "assert MODEL_TYPE in GOOD_MODEL_TYPE, f\"Error, bad model type, select from: {GOOD_MODEL_TYPE}\""
   ]
  },
  {
   "cell_type": "code",
   "execution_count": 53,
   "id": "b822cac9",
   "metadata": {},
   "outputs": [],
   "source": [
    "from models.R1AE import ConvLRAE, ConvVAE, ConvAE\n"
   ]
  },
  {
   "cell_type": "code",
   "execution_count": 54,
   "id": "1709092e",
   "metadata": {},
   "outputs": [],
   "source": [
    "# PARAMETERS\n",
    "IN_FEATURES = 256*2*2\n",
    "OUT_FEATURES = 128\n",
    "N_BINS = 20\n",
    "GRID = torch.arange(1,N_BINS+1).to(device)/N_BINS\n",
    "\n",
    "# nonlinearity = \n",
    "\n",
    "DROPOUT = 0.0\n",
    "TEMP = 0.5\n",
    "SAMPLING = 'gumbell'\n",
    "\n"
   ]
  },
  {
   "cell_type": "code",
   "execution_count": 55,
   "id": "86daf739",
   "metadata": {},
   "outputs": [
    {
     "name": "stdout",
     "output_type": "stream",
     "text": [
      "LRAE was inisialized\n"
     ]
    }
   ],
   "source": [
    "if MODEL_TYPE == 'LRAE':\n",
    "     model = ConvLRAE(IN_FEATURES, OUT_FEATURES, N_BINS, GRID, dropout=DROPOUT, nonlinearity=nn.ReLU(),\n",
    "                sampling=SAMPLING, temperature=TEMP, in_channels=DS_IN_CHANNELS).to(device)\n",
    "elif MODEL_TYPE == 'VAE':\n",
    "    model = ConvVAE(IN_FEATURES, OUT_FEATURES, nonlinearity=nn.ReLU(), in_channels=DS_IN_CHANNELS).to(device)\n",
    "elif MODEL_TYPE == 'AE':\n",
    "    model = ConvAE(IN_FEATURES, OUT_FEATURES, nonlinearity=nn.ReLU(), in_channels=DS_IN_CHANNELS).to(device)\n",
    "else:\n",
    "    assert False, f\"Error, bad model type, select from: {GOOD_MODEL_TYPE}\"\n",
    "    \n",
    "criterion = nn.MSELoss()\n",
    "optimizer = torch.optim.Adam(model.parameters(), lr=1e-4)\n",
    "    \n",
    "print(f\"{MODEL_TYPE} was inisialized\")"
   ]
  },
  {
   "cell_type": "code",
   "execution_count": 56,
   "id": "1b954f6d",
   "metadata": {},
   "outputs": [
    {
     "name": "stdout",
     "output_type": "stream",
     "text": [
      "torch.Size([2, 1, 32, 32]) --> torch.Size([2, 1, 32, 32])\n"
     ]
    }
   ],
   "source": [
    "X_in = torch.rand(X_full_test.shape)[:2].to(device)\n",
    "X_out = model(X_in)\n",
    "print(f\"{X_in.shape} --> {X_out.shape}\")"
   ]
  },
  {
   "cell_type": "markdown",
   "id": "447e3725",
   "metadata": {},
   "source": [
    "# Training"
   ]
  },
  {
   "cell_type": "code",
   "execution_count": null,
   "id": "ce3a193c",
   "metadata": {},
   "outputs": [],
   "source": []
  },
  {
   "cell_type": "code",
   "execution_count": 84,
   "id": "a719304f",
   "metadata": {},
   "outputs": [],
   "source": [
    "# setup training\n",
    "criterion = nn.MSELoss()\n",
    "optimizer = torch.optim.Adam(model.parameters(), lr=1e-4)\n",
    "\n",
    "\n",
    "# PATH = PATH\n",
    "EPOCHS = 50\n",
    "ALPHA = 0.01\n",
    "\n",
    "loss_list_train = []\n",
    "loss_train_cum = 0\n",
    "\n",
    "loss_list_test = []\n",
    "loss_test_cum = 0\n",
    "i = 0\n",
    "loss = 0"
   ]
  },
  {
   "cell_type": "code",
   "execution_count": null,
   "id": "03c9a81d",
   "metadata": {},
   "outputs": [],
   "source": []
  },
  {
   "cell_type": "code",
   "execution_count": 85,
   "id": "de64e589",
   "metadata": {},
   "outputs": [
    {
     "name": "stdout",
     "output_type": "stream",
     "text": [
      "Training of the model\n",
      "Alpha update =  16.000\n",
      "Entropy alpha =  1.000e-02\n"
     ]
    },
    {
     "name": "stderr",
     "output_type": "stream",
     "text": [
      "  0%|          | 0/2 [00:00<?, ?it/s]"
     ]
    },
    {
     "name": "stderr",
     "output_type": "stream",
     "text": [
      "  0%|          | 0/2 [00:05<?, ?it/s]\n"
     ]
    },
    {
     "ename": "KeyboardInterrupt",
     "evalue": "",
     "output_type": "error",
     "traceback": [
      "\u001b[0;31m---------------------------------------------------------------------------\u001b[0m",
      "\u001b[0;31mKeyboardInterrupt\u001b[0m                         Traceback (most recent call last)",
      "\u001b[1;32m/home/a.shapirov/Low_Rank_Autoencoder/Blocked Autoencoder MNIST_Sergei.ipynb Cell 17\u001b[0m line \u001b[0;36m3\n\u001b[1;32m     <a href='vscode-notebook-cell://ssh-remote%2Bfedor/home/a.shapirov/Low_Rank_Autoencoder/Blocked%20Autoencoder%20MNIST_Sergei.ipynb#X22sdnNjb2RlLXJlbW90ZQ%3D%3D?line=30'>31</a>\u001b[0m x_batch, y_batch \u001b[39m=\u001b[39m x_batch\u001b[39m.\u001b[39mto(device), y_batch\u001b[39m.\u001b[39mto(device)\n\u001b[1;32m     <a href='vscode-notebook-cell://ssh-remote%2Bfedor/home/a.shapirov/Low_Rank_Autoencoder/Blocked%20Autoencoder%20MNIST_Sergei.ipynb#X22sdnNjb2RlLXJlbW90ZQ%3D%3D?line=32'>33</a>\u001b[0m \u001b[39m# model forward\u001b[39;00m\n\u001b[1;32m     <a href='vscode-notebook-cell://ssh-remote%2Bfedor/home/a.shapirov/Low_Rank_Autoencoder/Blocked%20Autoencoder%20MNIST_Sergei.ipynb#X22sdnNjb2RlLXJlbW90ZQ%3D%3D?line=33'>34</a>\u001b[0m \u001b[39m# 2d downsampling\u001b[39;00m\n\u001b[0;32m---> <a href='vscode-notebook-cell://ssh-remote%2Bfedor/home/a.shapirov/Low_Rank_Autoencoder/Blocked%20Autoencoder%20MNIST_Sergei.ipynb#X22sdnNjb2RlLXJlbW90ZQ%3D%3D?line=34'>35</a>\u001b[0m x_down \u001b[39m=\u001b[39m model\u001b[39m.\u001b[39;49mdown(x_batch)\n\u001b[1;32m     <a href='vscode-notebook-cell://ssh-remote%2Bfedor/home/a.shapirov/Low_Rank_Autoencoder/Blocked%20Autoencoder%20MNIST_Sergei.ipynb#X22sdnNjb2RlLXJlbW90ZQ%3D%3D?line=35'>36</a>\u001b[0m B, C, H, W \u001b[39m=\u001b[39m x_down\u001b[39m.\u001b[39mshape\n\u001b[1;32m     <a href='vscode-notebook-cell://ssh-remote%2Bfedor/home/a.shapirov/Low_Rank_Autoencoder/Blocked%20Autoencoder%20MNIST_Sergei.ipynb#X22sdnNjb2RlLXJlbW90ZQ%3D%3D?line=36'>37</a>\u001b[0m x_flat \u001b[39m=\u001b[39m x_down\u001b[39m.\u001b[39mview(B,C\u001b[39m*\u001b[39mH\u001b[39m*\u001b[39mW)\n",
      "File \u001b[0;32m~/.local/lib/python3.9/site-packages/torch/nn/modules/module.py:1194\u001b[0m, in \u001b[0;36mModule._call_impl\u001b[0;34m(self, *input, **kwargs)\u001b[0m\n\u001b[1;32m   1190\u001b[0m \u001b[39m# If we don't have any hooks, we want to skip the rest of the logic in\u001b[39;00m\n\u001b[1;32m   1191\u001b[0m \u001b[39m# this function, and just call forward.\u001b[39;00m\n\u001b[1;32m   1192\u001b[0m \u001b[39mif\u001b[39;00m \u001b[39mnot\u001b[39;00m (\u001b[39mself\u001b[39m\u001b[39m.\u001b[39m_backward_hooks \u001b[39mor\u001b[39;00m \u001b[39mself\u001b[39m\u001b[39m.\u001b[39m_forward_hooks \u001b[39mor\u001b[39;00m \u001b[39mself\u001b[39m\u001b[39m.\u001b[39m_forward_pre_hooks \u001b[39mor\u001b[39;00m _global_backward_hooks\n\u001b[1;32m   1193\u001b[0m         \u001b[39mor\u001b[39;00m _global_forward_hooks \u001b[39mor\u001b[39;00m _global_forward_pre_hooks):\n\u001b[0;32m-> 1194\u001b[0m     \u001b[39mreturn\u001b[39;00m forward_call(\u001b[39m*\u001b[39;49m\u001b[39minput\u001b[39;49m, \u001b[39m*\u001b[39;49m\u001b[39m*\u001b[39;49mkwargs)\n\u001b[1;32m   1195\u001b[0m \u001b[39m# Do not call functions when jit is used\u001b[39;00m\n\u001b[1;32m   1196\u001b[0m full_backward_hooks, non_full_backward_hooks \u001b[39m=\u001b[39m [], []\n",
      "File \u001b[0;32m~/.local/lib/python3.9/site-packages/torch/nn/modules/container.py:204\u001b[0m, in \u001b[0;36mSequential.forward\u001b[0;34m(self, input)\u001b[0m\n\u001b[1;32m    202\u001b[0m \u001b[39mdef\u001b[39;00m \u001b[39mforward\u001b[39m(\u001b[39mself\u001b[39m, \u001b[39minput\u001b[39m):\n\u001b[1;32m    203\u001b[0m     \u001b[39mfor\u001b[39;00m module \u001b[39min\u001b[39;00m \u001b[39mself\u001b[39m:\n\u001b[0;32m--> 204\u001b[0m         \u001b[39minput\u001b[39m \u001b[39m=\u001b[39m module(\u001b[39minput\u001b[39;49m)\n\u001b[1;32m    205\u001b[0m     \u001b[39mreturn\u001b[39;00m \u001b[39minput\u001b[39m\n",
      "File \u001b[0;32m~/.local/lib/python3.9/site-packages/torch/nn/modules/module.py:1194\u001b[0m, in \u001b[0;36mModule._call_impl\u001b[0;34m(self, *input, **kwargs)\u001b[0m\n\u001b[1;32m   1190\u001b[0m \u001b[39m# If we don't have any hooks, we want to skip the rest of the logic in\u001b[39;00m\n\u001b[1;32m   1191\u001b[0m \u001b[39m# this function, and just call forward.\u001b[39;00m\n\u001b[1;32m   1192\u001b[0m \u001b[39mif\u001b[39;00m \u001b[39mnot\u001b[39;00m (\u001b[39mself\u001b[39m\u001b[39m.\u001b[39m_backward_hooks \u001b[39mor\u001b[39;00m \u001b[39mself\u001b[39m\u001b[39m.\u001b[39m_forward_hooks \u001b[39mor\u001b[39;00m \u001b[39mself\u001b[39m\u001b[39m.\u001b[39m_forward_pre_hooks \u001b[39mor\u001b[39;00m _global_backward_hooks\n\u001b[1;32m   1193\u001b[0m         \u001b[39mor\u001b[39;00m _global_forward_hooks \u001b[39mor\u001b[39;00m _global_forward_pre_hooks):\n\u001b[0;32m-> 1194\u001b[0m     \u001b[39mreturn\u001b[39;00m forward_call(\u001b[39m*\u001b[39;49m\u001b[39minput\u001b[39;49m, \u001b[39m*\u001b[39;49m\u001b[39m*\u001b[39;49mkwargs)\n\u001b[1;32m   1195\u001b[0m \u001b[39m# Do not call functions when jit is used\u001b[39;00m\n\u001b[1;32m   1196\u001b[0m full_backward_hooks, non_full_backward_hooks \u001b[39m=\u001b[39m [], []\n",
      "File \u001b[0;32m~/Low_Rank_Autoencoder/models/conv_up_and_down.py:13\u001b[0m, in \u001b[0;36mDownsampleBlock.forward\u001b[0;34m(self, x)\u001b[0m\n\u001b[1;32m     12\u001b[0m \u001b[39mdef\u001b[39;00m \u001b[39mforward\u001b[39m(\u001b[39mself\u001b[39m, x):\n\u001b[0;32m---> 13\u001b[0m     x1 \u001b[39m=\u001b[39m \u001b[39mself\u001b[39;49m\u001b[39m.\u001b[39;49mconv(x)\n\u001b[1;32m     14\u001b[0m     x2 \u001b[39m=\u001b[39m \u001b[39mself\u001b[39m\u001b[39m.\u001b[39mnonlinearity(x1)\n\u001b[1;32m     15\u001b[0m     \u001b[39mreturn\u001b[39;00m x2\n",
      "File \u001b[0;32m~/.local/lib/python3.9/site-packages/torch/nn/modules/module.py:1194\u001b[0m, in \u001b[0;36mModule._call_impl\u001b[0;34m(self, *input, **kwargs)\u001b[0m\n\u001b[1;32m   1190\u001b[0m \u001b[39m# If we don't have any hooks, we want to skip the rest of the logic in\u001b[39;00m\n\u001b[1;32m   1191\u001b[0m \u001b[39m# this function, and just call forward.\u001b[39;00m\n\u001b[1;32m   1192\u001b[0m \u001b[39mif\u001b[39;00m \u001b[39mnot\u001b[39;00m (\u001b[39mself\u001b[39m\u001b[39m.\u001b[39m_backward_hooks \u001b[39mor\u001b[39;00m \u001b[39mself\u001b[39m\u001b[39m.\u001b[39m_forward_hooks \u001b[39mor\u001b[39;00m \u001b[39mself\u001b[39m\u001b[39m.\u001b[39m_forward_pre_hooks \u001b[39mor\u001b[39;00m _global_backward_hooks\n\u001b[1;32m   1193\u001b[0m         \u001b[39mor\u001b[39;00m _global_forward_hooks \u001b[39mor\u001b[39;00m _global_forward_pre_hooks):\n\u001b[0;32m-> 1194\u001b[0m     \u001b[39mreturn\u001b[39;00m forward_call(\u001b[39m*\u001b[39;49m\u001b[39minput\u001b[39;49m, \u001b[39m*\u001b[39;49m\u001b[39m*\u001b[39;49mkwargs)\n\u001b[1;32m   1195\u001b[0m \u001b[39m# Do not call functions when jit is used\u001b[39;00m\n\u001b[1;32m   1196\u001b[0m full_backward_hooks, non_full_backward_hooks \u001b[39m=\u001b[39m [], []\n",
      "File \u001b[0;32m~/.local/lib/python3.9/site-packages/torch/nn/modules/conv.py:463\u001b[0m, in \u001b[0;36mConv2d.forward\u001b[0;34m(self, input)\u001b[0m\n\u001b[1;32m    462\u001b[0m \u001b[39mdef\u001b[39;00m \u001b[39mforward\u001b[39m(\u001b[39mself\u001b[39m, \u001b[39minput\u001b[39m: Tensor) \u001b[39m-\u001b[39m\u001b[39m>\u001b[39m Tensor:\n\u001b[0;32m--> 463\u001b[0m     \u001b[39mreturn\u001b[39;00m \u001b[39mself\u001b[39;49m\u001b[39m.\u001b[39;49m_conv_forward(\u001b[39minput\u001b[39;49m, \u001b[39mself\u001b[39;49m\u001b[39m.\u001b[39;49mweight, \u001b[39mself\u001b[39;49m\u001b[39m.\u001b[39;49mbias)\n",
      "File \u001b[0;32m~/.local/lib/python3.9/site-packages/torch/nn/modules/conv.py:459\u001b[0m, in \u001b[0;36mConv2d._conv_forward\u001b[0;34m(self, input, weight, bias)\u001b[0m\n\u001b[1;32m    455\u001b[0m \u001b[39mif\u001b[39;00m \u001b[39mself\u001b[39m\u001b[39m.\u001b[39mpadding_mode \u001b[39m!=\u001b[39m \u001b[39m'\u001b[39m\u001b[39mzeros\u001b[39m\u001b[39m'\u001b[39m:\n\u001b[1;32m    456\u001b[0m     \u001b[39mreturn\u001b[39;00m F\u001b[39m.\u001b[39mconv2d(F\u001b[39m.\u001b[39mpad(\u001b[39minput\u001b[39m, \u001b[39mself\u001b[39m\u001b[39m.\u001b[39m_reversed_padding_repeated_twice, mode\u001b[39m=\u001b[39m\u001b[39mself\u001b[39m\u001b[39m.\u001b[39mpadding_mode),\n\u001b[1;32m    457\u001b[0m                     weight, bias, \u001b[39mself\u001b[39m\u001b[39m.\u001b[39mstride,\n\u001b[1;32m    458\u001b[0m                     _pair(\u001b[39m0\u001b[39m), \u001b[39mself\u001b[39m\u001b[39m.\u001b[39mdilation, \u001b[39mself\u001b[39m\u001b[39m.\u001b[39mgroups)\n\u001b[0;32m--> 459\u001b[0m \u001b[39mreturn\u001b[39;00m F\u001b[39m.\u001b[39;49mconv2d(\u001b[39minput\u001b[39;49m, weight, bias, \u001b[39mself\u001b[39;49m\u001b[39m.\u001b[39;49mstride,\n\u001b[1;32m    460\u001b[0m                 \u001b[39mself\u001b[39;49m\u001b[39m.\u001b[39;49mpadding, \u001b[39mself\u001b[39;49m\u001b[39m.\u001b[39;49mdilation, \u001b[39mself\u001b[39;49m\u001b[39m.\u001b[39;49mgroups)\n",
      "\u001b[0;31mKeyboardInterrupt\u001b[0m: "
     ]
    }
   ],
   "source": [
    "######## Training\n",
    "print(\"Training of the model\")\n",
    "\n",
    "\n",
    "\n",
    "\n",
    "alpha_kl = ALPHA\n",
    "alpha_entropy = ALPHA\n",
    "if MODEL_TYPE == 'LRAE':\n",
    "    # alpha_entropy *= OUT_FEATURES/8\n",
    "    print(f\"Alpha update = {OUT_FEATURES/8: .3f}\")\n",
    "    print(f\"Entropy alpha = {alpha_entropy: .3e}\")\n",
    "\n",
    "\n",
    "# epoch_save_backup = EPOCH_SAVE_BACKUP\n",
    "# show_loss_backup = SHOW_LOSS_BACKUP\n",
    "\n",
    "\n",
    "# Training\n",
    "model.train()\n",
    "optimizer.zero_grad()\n",
    "torch.cuda.empty_cache()\n",
    "\n",
    "for epoch in tqdm(range(2)):#tqdm(range(EPOCHS)):\n",
    "    # Forward pass: Compute predicted y by passing x to the model\n",
    "        \n",
    "    # Training\n",
    "    model.train() # Model to train\n",
    "    for x_batch, y_batch in dl:\n",
    "\n",
    "        x_batch, y_batch = x_batch.to(device), y_batch.to(device)\n",
    "        \n",
    "        # model forward\n",
    "        # 2d downsampling\n",
    "        x_down = model.down(x_batch)\n",
    "        B, C, H, W = x_down.shape\n",
    "        x_flat = x_down.view(B,C*H*W)\n",
    "        \n",
    "        encoded_out_dim, factors_probability = model.low_rank.low_rank_pants(x_flat)\n",
    "        decoded_1d = model.low_rank.decoder(encoded_out_dim)\n",
    "        \n",
    "        # 2d upsampling\n",
    "        decoded_2d_small = decoded_1d.view(B, C, H, W)\n",
    "        decoded_2d = model.up(decoded_2d_small)\n",
    "        \n",
    "        # loss\n",
    "\n",
    "#         loss_entropy = torch.sum(torch.log(factors_probability+1e-9)*factors_probability,dim=-1)\n",
    "        # factors_probability = nn.Softmax(dim=-1)(factors_probability)\n",
    "        # loss_entropy = torch.sum(torch.log(factors_probability+1e-9)*factors_probability,dim=-1)\n",
    "        loss = criterion(decoded_2d.view(-1), x_batch.view(-1)) \n",
    "        if MODEL_TYPE == 'VAE':\n",
    "            loss += alpha_kl*factors_probability.mean()  # KL loss\n",
    "            \n",
    "        if MODEL_TYPE == 'LRAE':\n",
    "            factors_probability1 = nn.Softmax(dim=-1)(factors_probability)\n",
    "            loss_entropy = torch.sum(torch.log(factors_probability1+1e-9)*factors_probability1,dim=-1)            \n",
    "            loss += alpha_entropy*torch.mean(torch.exp(loss_entropy)) # entropy loss\n",
    "            \n",
    "            \n",
    "          \n",
    "            \n",
    "            \n",
    "        # Zero gradients, perform a backward pass, and update the weights.\n",
    "        optimizer.zero_grad()\n",
    "        loss.backward()\n",
    "        optimizer.step()\n",
    "        # accumulate loss\n",
    "        loss_train_cum += loss.item()\n",
    "        \n",
    "        # validation and saving\n",
    "        i += 1\n",
    "        if i % 100 == 0:\n",
    "            loss_list_train.append(loss_train_cum/100)\n",
    "            loss_train_cum = 0\n",
    "            with torch.no_grad():\n",
    "                model.eval() # put to eval\n",
    "                for x_batch, y_batch in dl_test:\n",
    "                    # model forward\n",
    "                    x_batch, y_batch = x_batch.to(device), y_batch.to(device)\n",
    "                    x_decoded = model(x_batch)\n",
    "\n",
    "                    loss_test = criterion(x_decoded.view(-1), x_batch.view(-1))\n",
    "                    loss_test_cum += loss_test.item()\n",
    "                    \n",
    "            assert torch.isnan(x_decoded).sum() == 0, f\"Error! Nan values ({torch.isnan(x_decoded).sum()}) in models output\"\n",
    "      \n",
    "            # save to list\n",
    "            loss_list_test.append(loss_test_cum/len(dl_test))\n",
    "            loss_test_cum = 0\n",
    "          \n",
    "            \n",
    "    # # backup saving  \n",
    "    # if epoch%epoch_save_backup == 0:\n",
    "    #     torch.save({\n",
    "    #         'epoch': epoch,\n",
    "    #         'model_state_dict': model.state_dict(),\n",
    "    #         'optimizer_state_dict': optimizer.state_dict(),\n",
    "    #         'loss': loss,\n",
    "    #         'loss_list_train': loss_list_train,\n",
    "    #         'loss_list_test': loss_list_test,\n",
    "            \n",
    "    #         }, PATH + f\"__{epoch}.pth\")\n",
    "      \n",
    "    # # loss printing        \n",
    "    # if (epoch % show_loss_backup == show_loss_backup-1) or (epoch == EPOCHS -1):\n",
    "    #     fig = plt.figure(figsize=(6,3))\n",
    "    #     plt.plot(loss_list_train, alpha=0.5, label='train')\n",
    "    #     plt.plot(loss_list_test, alpha=0.5, label='test')\n",
    "    #     plt.legend()\n",
    "    #     plt.savefig( PATH  + \"_loss.png\")\n",
    "    #     pass\n",
    "            \n",
    "            \n",
    "        \n",
    "\n",
    "\n",
    "\n",
    "# print(\"Finishing of the training...\")\n",
    "# torch.save({\n",
    "#         'epoch': epoch,\n",
    "#         'model_state_dict': model.state_dict(),\n",
    "#         'optimizer_state_dict': optimizer.state_dict(),\n",
    "#         'loss': loss,\n",
    "#         'loss_list_train': loss_list_train,\n",
    "#         'loss_list_test': loss_list_test,\n",
    "        \n",
    "#         }, PATH + f\"__{epoch}__end.pth\")\n",
    "\n",
    "# print(\"Model training was successfully finished and saved!\")"
   ]
  },
  {
   "cell_type": "code",
   "execution_count": 86,
   "id": "76702445",
   "metadata": {},
   "outputs": [
    {
     "data": {
      "text/plain": [
       "tensor(0.0105, grad_fn=<DivBackward0>)"
      ]
     },
     "execution_count": 86,
     "metadata": {},
     "output_type": "execute_result"
    }
   ],
   "source": [
    "fp = factors_probability.view(256,-1)\n",
    "\n",
    "U, s, V = torch.svd(fp)\n",
    "s[16:] = 0.\n",
    "fp_svd = U @ torch.diag(s) @ V.T\n",
    "\n",
    "torch.linalg.norm(fp_svd - fp)/torch.linalg.norm(fp)"
   ]
  },
  {
   "cell_type": "code",
   "execution_count": 80,
   "id": "f8e04e73",
   "metadata": {},
   "outputs": [
    {
     "data": {
      "text/plain": [
       "tensor(0.3027, grad_fn=<DivBackward0>)"
      ]
     },
     "execution_count": 80,
     "metadata": {},
     "output_type": "execute_result"
    }
   ],
   "source": [
    "U, s, V = torch.svd(encoded_out_dim)\n",
    "s[16:] = 0.\n",
    "enc = U @ torch.diag(s) @ V.T\n",
    "\n",
    "torch.linalg.norm(enc - encoded_out_dim)/torch.linalg.norm(encoded_out_dim)"
   ]
  },
  {
   "cell_type": "markdown",
   "id": "2d0b71ee",
   "metadata": {},
   "source": [
    "# Loading"
   ]
  },
  {
   "cell_type": "code",
   "execution_count": null,
   "id": "20674ce1",
   "metadata": {},
   "outputs": [],
   "source": [
    "# # Upload the model\n",
    "# model_name = 'test1__MNIST__LRAE__128__0.01__5'\n",
    "# model_dir = 'test_1_save'\n",
    "model_path = os.path.join(model_dir, model_name + '.pth')"
   ]
  },
  {
   "cell_type": "code",
   "execution_count": null,
   "id": "ddc36fbb",
   "metadata": {},
   "outputs": [],
   "source": [
    "## Loading\n",
    "# PATH = \"MNIST__gumbell__entropy__200\"\n",
    "# PATH = \"MNIST__VAE__8__25\"\n",
    "PATH = model_path\n",
    "\n",
    "checkpoint = torch.load(PATH)\n",
    "model.load_state_dict(checkpoint['model_state_dict'])\n",
    "optimizer.load_state_dict(checkpoint['optimizer_state_dict'])\n",
    "epoch = checkpoint['epoch']\n",
    "loss = checkpoint['loss']\n",
    "loss_list_train = checkpoint['loss_list_train']\n",
    "loss_list_test = checkpoint['loss_list_test']"
   ]
  },
  {
   "cell_type": "markdown",
   "id": "8638def4",
   "metadata": {},
   "source": [
    "# Evaluation"
   ]
  },
  {
   "cell_type": "code",
   "execution_count": null,
   "id": "241dfbfa",
   "metadata": {},
   "outputs": [],
   "source": [
    "from models.evaluation import inf_by_layers, check_reconstruction, gen_idx_for_batches, display_datasets\n",
    "from models.evaluation import gen_gm_dataset, update_FID_class, ManualFID, prepare_to_FID\n",
    "from torchmetrics.image.fid import FrechetInceptionDistance as tm_FrechetInceptionDistance\n",
    "from torcheval.metrics import FrechetInceptionDistance\n",
    "\n",
    "from sklearn.mixture import GaussianMixture"
   ]
  }
 ],
 "metadata": {
  "kernelspec": {
   "display_name": "Python 3",
   "language": "python",
   "name": "python3"
  },
  "language_info": {
   "codemirror_mode": {
    "name": "ipython",
    "version": 3
   },
   "file_extension": ".py",
   "mimetype": "text/x-python",
   "name": "python",
   "nbconvert_exporter": "python",
   "pygments_lexer": "ipython3",
   "version": "3.9.13"
  }
 },
 "nbformat": 4,
 "nbformat_minor": 5
}
